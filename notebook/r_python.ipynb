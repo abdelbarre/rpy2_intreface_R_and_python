{
 "cells": [
  {
   "cell_type": "markdown",
   "metadata": {},
   "source": [
    "![](../img/r_and_python.jpg)"
   ]
  },
  {
   "cell_type": "markdown",
   "metadata": {},
   "source": [
    "## Combine R and Python Strengths in the same python Notebook 🚀"
   ]
  },
  {
   "cell_type": "markdown",
   "metadata": {},
   "source": [
    "### Lets be more agile by using R and python in the same jupyter Notebook and give more flexibility to Developers :-)"
   ]
  },
  {
   "cell_type": "markdown",
   "metadata": {},
   "source": [
    "### before we start : \n",
    "*  Installing rpy2 Two option to install it\n",
    "    * ``pip install rpy2==3.2.6``\n",
    "    * ``conda install rpy2 ( If you use anaconda )``"
   ]
  },
  {
   "cell_type": "code",
   "execution_count": 1,
   "metadata": {},
   "outputs": [],
   "source": [
    "import warnings\n",
    "warnings.filterwarnings('ignore') ## To ignore the worning in python "
   ]
  },
  {
   "cell_type": "code",
   "execution_count": 2,
   "metadata": {},
   "outputs": [],
   "source": [
    "from rpy2.robjects import r, pandas2ri\n",
    "pandas2ri.activate()"
   ]
  },
  {
   "cell_type": "code",
   "execution_count": 3,
   "metadata": {
    "collapsed": false,
    "jupyter": {
     "outputs_hidden": false
    }
   },
   "outputs": [],
   "source": [
    "%load_ext rpy2.ipython\n",
    "## load  extension rpy2"
   ]
  },
  {
   "cell_type": "markdown",
   "metadata": {},
   "source": [
    "### First Example Create pandas DF and Use it in R prog language 👍"
   ]
  },
  {
   "cell_type": "code",
   "execution_count": 4,
   "metadata": {},
   "outputs": [],
   "source": [
    "import pandas as pd\n",
    "## Creaty mock DataFrame Using Pandas\n",
    "df = pd.DataFrame({'name': ['Abdelbarre', 'Imrane', 'John', 'Philippe','Youssef'],\n",
    "                   'age': [44, 55, 53, 26, 19],\n",
    "                   'country': ['MAR', 'MAR','AUS', 'FRA','CAN'],\n",
    "                   'salary': [150, 200, 300, 170, 200]})"
   ]
  },
  {
   "cell_type": "code",
   "execution_count": 5,
   "metadata": {},
   "outputs": [
    {
     "data": {
      "text/html": [
       "<div>\n",
       "<style scoped>\n",
       "    .dataframe tbody tr th:only-of-type {\n",
       "        vertical-align: middle;\n",
       "    }\n",
       "\n",
       "    .dataframe tbody tr th {\n",
       "        vertical-align: top;\n",
       "    }\n",
       "\n",
       "    .dataframe thead th {\n",
       "        text-align: right;\n",
       "    }\n",
       "</style>\n",
       "<table border=\"1\" class=\"dataframe\">\n",
       "  <thead>\n",
       "    <tr style=\"text-align: right;\">\n",
       "      <th></th>\n",
       "      <th>name</th>\n",
       "      <th>age</th>\n",
       "      <th>country</th>\n",
       "      <th>salary</th>\n",
       "    </tr>\n",
       "  </thead>\n",
       "  <tbody>\n",
       "    <tr>\n",
       "      <th>0</th>\n",
       "      <td>Abdelbarre</td>\n",
       "      <td>44</td>\n",
       "      <td>MAR</td>\n",
       "      <td>150</td>\n",
       "    </tr>\n",
       "    <tr>\n",
       "      <th>1</th>\n",
       "      <td>Imrane</td>\n",
       "      <td>55</td>\n",
       "      <td>MAR</td>\n",
       "      <td>200</td>\n",
       "    </tr>\n",
       "    <tr>\n",
       "      <th>2</th>\n",
       "      <td>John</td>\n",
       "      <td>53</td>\n",
       "      <td>AUS</td>\n",
       "      <td>300</td>\n",
       "    </tr>\n",
       "    <tr>\n",
       "      <th>3</th>\n",
       "      <td>Philippe</td>\n",
       "      <td>26</td>\n",
       "      <td>FRA</td>\n",
       "      <td>170</td>\n",
       "    </tr>\n",
       "    <tr>\n",
       "      <th>4</th>\n",
       "      <td>Youssef</td>\n",
       "      <td>19</td>\n",
       "      <td>CAN</td>\n",
       "      <td>200</td>\n",
       "    </tr>\n",
       "  </tbody>\n",
       "</table>\n",
       "</div>"
      ],
      "text/plain": [
       "         name  age country  salary\n",
       "0  Abdelbarre   44     MAR     150\n",
       "1      Imrane   55     MAR     200\n",
       "2        John   53     AUS     300\n",
       "3    Philippe   26     FRA     170\n",
       "4     Youssef   19     CAN     200"
      ]
     },
     "execution_count": 5,
     "metadata": {},
     "output_type": "execute_result"
    }
   ],
   "source": [
    "## show DF Data \n",
    "df.head()"
   ]
  },
  {
   "cell_type": "markdown",
   "metadata": {},
   "source": [
    "#### Transforme Pandas DF into R Dataframe "
   ]
  },
  {
   "cell_type": "code",
   "execution_count": 6,
   "metadata": {},
   "outputs": [],
   "source": [
    "## Transforme Pandas DF into R Dataframe \n",
    "r_df = pandas2ri.py2ri(df)"
   ]
  },
  {
   "cell_type": "code",
   "execution_count": 7,
   "metadata": {},
   "outputs": [
    {
     "name": "stdout",
     "output_type": "stream",
     "text": [
      "original Df Type is :\n",
      "<class 'pandas.core.frame.DataFrame'>\n",
      "++             +++\n",
      "+++            +++\n",
      " \n",
      "The newest r_df Type is  :\n",
      "<class 'rpy2.robjects.vectors.DataFrame'>\n"
     ]
    }
   ],
   "source": [
    "print('original Df Type is :')\n",
    "print(type(df))\n",
    "print('++             +++')\n",
    "print('+++            +++')\n",
    "print(' ')\n",
    "print('The newest r_df Type is  :')\n",
    "print(type(r_df))\n"
   ]
  },
  {
   "cell_type": "markdown",
   "metadata": {},
   "source": [
    "Now we Have Both Dfs one is R dataframe and the other is Pandas Df "
   ]
  },
  {
   "cell_type": "code",
   "execution_count": 8,
   "metadata": {},
   "outputs": [
    {
     "name": "stdout",
     "output_type": "stream",
     "text": [
      "        name age country salary\n",
      "0 Abdelbarre  44     MAR    150\n",
      "1     Imrane  55     MAR    200\n",
      "2       John  53     AUS    300\n",
      "3   Philippe  26     FRA    170\n",
      "4    Youssef  19     CAN    200\n",
      "\n"
     ]
    }
   ],
   "source": [
    "print(r_df)"
   ]
  },
  {
   "cell_type": "markdown",
   "metadata": {},
   "source": [
    "## Calling rpy2 Lib using Magic Command 💪"
   ]
  },
  {
   "cell_type": "code",
   "execution_count": 9,
   "metadata": {},
   "outputs": [],
   "source": [
    "%%R \n",
    "## Create R dataframe using read.csv\n",
    "r_df_countries_index = read.csv(file = '../data/countries.csv',header = TRUE, sep = \";\" )"
   ]
  },
  {
   "cell_type": "code",
   "execution_count": 10,
   "metadata": {},
   "outputs": [
    {
     "data": {
      "text/plain": [
       "         country area_km         gdp fertility_rate unemployment_rate\n",
       "1    Afghanistan  647500 21500000000           6.75                NA\n",
       "2       Akrotiri     123                         NA                NA\n",
       "3        Albania   28748 17460000000           2.04              14.8\n",
       "4        Algeria 2381740   2,123E+11           1.92              25.4\n",
       "5 American Samoa     199   500000000           3.25               6.0\n",
       "6        Andorra     468  1900000000           1.29               0.0\n"
      ]
     },
     "metadata": {},
     "output_type": "display_data"
    }
   ],
   "source": [
    "%%R\n",
    "## head function to show a simple data\n",
    "head(r_df_countries_index)"
   ]
  },
  {
   "cell_type": "code",
   "execution_count": 11,
   "metadata": {},
   "outputs": [],
   "source": [
    "%%R\n",
    "#Create Df which contains only Contry, Gdp, and Fertility rate ( Nomber of children by women)\n",
    "r_df_contries <- subset(r_df_countries_index, select = c(country,fertility_rate))"
   ]
  },
  {
   "cell_type": "code",
   "execution_count": 12,
   "metadata": {},
   "outputs": [
    {
     "data": {
      "text/plain": [
       "                       country fertility_rate\n",
       "1                  Afghanistan           6.75\n",
       "2                     Akrotiri             NA\n",
       "3                      Albania           2.04\n",
       "4                      Algeria           1.92\n",
       "5               American Samoa           3.25\n",
       "6                      Andorra           1.29\n",
       "7                       Angola           6.27\n",
       "8                     Anguilla           1.73\n",
       "9                   Antarctica             NA\n",
       "10         Antigua and Barbuda           2.26\n",
       "11                   Argentina           2.19\n",
       "12                     Armenia           1.32\n",
       "13                       Aruba           1.79\n",
       "14 Ashmore and Cartier Islands             NA\n",
       "15                   Australia           1.76\n",
       "16                     Austria           1.36\n",
       "17                  Azerbaijan           2.44\n",
       "18                 Bahamas The           2.20\n",
       "19                     Bahrain           2.63\n",
       "20                Baker Island             NA\n"
      ]
     },
     "metadata": {},
     "output_type": "display_data"
    }
   ],
   "source": [
    "%%R\n",
    "## Show data \n",
    "head(r_df_contries,20)"
   ]
  },
  {
   "cell_type": "code",
   "execution_count": 13,
   "metadata": {},
   "outputs": [
    {
     "data": {
      "image/png": "[encoded data removed]"
     },
     "metadata": {},
     "output_type": "display_data"
    }
   ],
   "source": [
    "%%R\n",
    "## simple polt to see the frequency of fertality \n",
    "with(r_df_contries,hist(fertility_rate,main='FertalityHistogram '))"
   ]
  },
  {
   "cell_type": "markdown",
   "metadata": {},
   "source": [
    "#### Let's pass a python value to create a new R Datafarme Column"
   ]
  },
  {
   "cell_type": "code",
   "execution_count": 14,
   "metadata": {},
   "outputs": [
    {
     "name": "stdout",
     "output_type": "stream",
     "text": [
      "<class 'str'>\n"
     ]
    }
   ],
   "source": [
    "nw_col_python = \"I'm python value :-)\"\n",
    "print(type(nw_col_python))"
   ]
  },
  {
   "cell_type": "code",
   "execution_count": 15,
   "metadata": {},
   "outputs": [
    {
     "data": {
      "text/plain": [
       "                       country fertility_rate        nw_col_python\n",
       "1                  Afghanistan           6.75 I'm python value :-)\n",
       "2                     Akrotiri             NA I'm python value :-)\n",
       "3                      Albania           2.04 I'm python value :-)\n",
       "4                      Algeria           1.92 I'm python value :-)\n",
       "5               American Samoa           3.25 I'm python value :-)\n",
       "6                      Andorra           1.29 I'm python value :-)\n",
       "7                       Angola           6.27 I'm python value :-)\n",
       "8                     Anguilla           1.73 I'm python value :-)\n",
       "9                   Antarctica             NA I'm python value :-)\n",
       "10         Antigua and Barbuda           2.26 I'm python value :-)\n",
       "11                   Argentina           2.19 I'm python value :-)\n",
       "12                     Armenia           1.32 I'm python value :-)\n",
       "13                       Aruba           1.79 I'm python value :-)\n",
       "14 Ashmore and Cartier Islands             NA I'm python value :-)\n",
       "15                   Australia           1.76 I'm python value :-)\n",
       "16                     Austria           1.36 I'm python value :-)\n",
       "17                  Azerbaijan           2.44 I'm python value :-)\n",
       "18                 Bahamas The           2.20 I'm python value :-)\n",
       "19                     Bahrain           2.63 I'm python value :-)\n",
       "20                Baker Island             NA I'm python value :-)\n"
      ]
     },
     "metadata": {},
     "output_type": "display_data"
    }
   ],
   "source": [
    "%%R -i nw_col_python  \n",
    "## nw_col is python value, and we passed as input value\n",
    "r_df_new = cbind(r_df_contries,nw_col_python)\n",
    "head(r_df_new,20)"
   ]
  }
 ],
 "metadata": {
  "kernelspec": {
   "display_name": "Python 3",
   "language": "python",
   "name": "python3"
  },
  "language_info": {
   "codemirror_mode": {
    "name": "ipython",
    "version": 3
   },
   "file_extension": ".py",
   "mimetype": "text/x-python",
   "name": "python",
   "nbconvert_exporter": "python",
   "pygments_lexer": "ipython3",
   "version": "3.7.3"
  }
 },
 "nbformat": 4,
 "nbformat_minor": 4
}
